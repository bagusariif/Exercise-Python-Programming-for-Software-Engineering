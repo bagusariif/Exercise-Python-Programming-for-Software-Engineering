{
  "nbformat": 4,
  "nbformat_minor": 0,
  "metadata": {
    "colab": {
      "provenance": [],
      "collapsed_sections": [
        "EOdMk1QDDWhA",
        "sMMfv8sK8jJz",
        "8hXTw4yi8jKc",
        "R_bPLY6K8jKe",
        "1Lvmi7SKAR2A",
        "k7TYvpqPAR2Z",
        "xsUAqsjvIBVH",
        "zBwsNOpKirCd",
        "RG2Q-hHDnDzk",
        "D3nQIQPWnIu9"
      ],
      "include_colab_link": true
    },
    "kernelspec": {
      "name": "python3",
      "display_name": "Python 3"
    },
    "language_info": {
      "name": "python"
    }
  },
  "cells": [
    {
      "cell_type": "markdown",
      "metadata": {
        "id": "view-in-github",
        "colab_type": "text"
      },
      "source": [
        "<a href=\"https://colab.research.google.com/github/bagusariif/Exercise-Python-Programming-for-Software-Engineering/blob/main/Bagus_Arif_Week_6_Python_Programming.ipynb\" target=\"_parent\"><img src=\"https://colab.research.google.com/assets/colab-badge.svg\" alt=\"Open In Colab\"/></a>"
      ]
    },
    {
      "cell_type": "markdown",
      "source": [
        "# Week 6 - Python Programming\n",
        "---\n",
        "\n",
        "Mentoring Session - Job Preparation Program - Pacmann AI"
      ],
      "metadata": {
        "id": "oiHKP1fFcQg8"
      }
    },
    {
      "cell_type": "markdown",
      "source": [
        "# Task 1. User Registration\n",
        "\n",
        "Category: Medium\n",
        "\n",
        "---"
      ],
      "metadata": {
        "id": "EOdMk1QDDWhA"
      }
    },
    {
      "cell_type": "markdown",
      "source": [
        "## Task Descriptions\n",
        "---\n",
        "- Create two classes to add user, deactivate user, and summarize user"
      ],
      "metadata": {
        "id": "rw6bdBFrDWhh"
      }
    },
    {
      "cell_type": "markdown",
      "source": [
        "## Detail function\n",
        "---"
      ],
      "metadata": {
        "id": "0DgsGgpoDWhj"
      }
    },
    {
      "cell_type": "markdown",
      "source": [
        "- Create two classes called by `UserData` and `RegistrationData`\n",
        "- The `RegistrationData` class inherit the `UserData` class.\n",
        "- In `UserData` class\n",
        "  - You initialize the class without inserting any input\n",
        "    - When initialize, it automatically create parameter called by `user_data` (list)\n",
        "    - Example of `user_data`\n",
        "    ```python\n",
        "    [\n",
        "            {'user_id': 1, 'data': {'name': 'cahya', 'gender': 'male', 'status': 'active'}},\n",
        "            {'user_id': 2, 'data': {'name': 'dewa', 'gender': 'male', 'status': 'active'}},\n",
        "            {'user_id': 3, 'data': {'name': 'fanny', 'gender': 'female', 'status': 'inactive'}}\n",
        "    ]\n",
        "    ```\n",
        "  - `UserData` class has 1 method called by `summarize`\n",
        "    - This method print the number of all user & active user get from `user_data` (list)\n",
        "    - Example\n",
        "    ```\n",
        "        Data summary\n",
        "        ------------\n",
        "        Number of all user    : 3\n",
        "        Numebr of active user : 2\n",
        "    ```\n",
        "- In `RegistrationData` class\n",
        "  - `RegistrationData` has two methods: `add_user` and `deactivate_user`\n",
        "  - `add_user`\n",
        "    - Adding user data to `user_data`\n",
        "    - It needs two input: `name` (str) and `gender` (str)\n",
        "    - When called,\n",
        "        - You start to count from 1 and set it as the corresponding user id\n",
        "        - Then you add a dictionary of user data to `user_data`\n",
        "        - The dictionary have two keys: `user_id` and `data`\n",
        "        - The value of `user_id` is `int` while the value of `data` is another dictionary.\n",
        "        - Inside the `data` key, it has 3 other keys: `name`, `gender`, and `status` that tell user name, user gender, and user status (default value is `active`).\n",
        "    - So, if you call `add_user(name='cahya', gender='male')`, <br>then you will add `{'user_id': 1, 'data': {'name': 'cahya', 'gender': 'male', 'status': 'active'}` to `user_data`\n",
        "    - If you call again the function by `add_user(name='fany', gender='female')`, <br>then you will add `{'user_id': 2, 'data': {'name': 'fany', 'gender': 'female', 'status': 'active'}` to `user_data`\n",
        "    \n",
        "  - `deactivate_user`\n",
        "    - Deactive user status by its `id`\n",
        "    - It needs one input, `user_id` (int)\n",
        "    - And change the user status from `active` to `inactive`"
      ],
      "metadata": {
        "id": "wAKdUFoSDWhj"
      }
    },
    {
      "cell_type": "markdown",
      "source": [
        "## Examples\n",
        "---"
      ],
      "metadata": {
        "id": "DjCgn0N5DWhj"
      }
    },
    {
      "cell_type": "markdown",
      "source": [
        "**Input 1**\n",
        "\n",
        "```python\n",
        "# Create an object\n",
        "data = RegistrationData()\n",
        "\n",
        "# First month\n",
        "data.add_user(name='cahya', gender='male')      # add user\n",
        "data.add_user(name='dewa', gender='male')       # add user\n",
        "data.add_user(name='fanny', gender='female')    # add user\n",
        "data.deactivate_user(user_id=3)                 # deactivate Fanny\n",
        "\n",
        "# Get the data summary\n",
        "data.summarize()\n",
        "\n",
        "# Print all data\n",
        "print('Data')\n",
        "print('-----------')\n",
        "data.user_data\n",
        "```\n",
        "\n",
        "**Output 1**\n",
        "```\n",
        "Data summary\n",
        "------------\n",
        "Number of all user    : 3\n",
        "Number of active user : 2\n",
        "\n",
        "Data\n",
        "-----------\n",
        "[{'user_id': 1,\n",
        "  'data': {'name': 'cahya', 'gender': 'male', 'status': 'active'}},\n",
        " {'user_id': 2,\n",
        "  'data': {'name': 'dewa', 'gender': 'male', 'status': 'active'}},\n",
        " {'user_id': 3,\n",
        "  'data': {'name': 'fanny', 'gender': 'female', 'status': 'inactive'}}]\n",
        "```"
      ],
      "metadata": {
        "id": "L8Dx5aboDWhk"
      }
    },
    {
      "cell_type": "markdown",
      "source": [
        "---\n",
        "**Input 2**\n",
        "\n",
        "```python\n",
        "# Create an object\n",
        "data = RegistrationData()\n",
        "\n",
        "# First month\n",
        "data.add_user(name='cahya', gender='male')      # add user\n",
        "data.add_user(name='dewa', gender='male')       # add user\n",
        "data.add_user(name='fanny', gender='female')    # add user\n",
        "data.add_user(name='dron', gender='male')       # add user\n",
        "data.deactivate_user(user_id=2)                 # deactivate user\n",
        "data.add_user(name='gaby', gender='female')     # add user\n",
        "data.add_user(name='sativa', gender='female')   # add user\n",
        "data.deactivate_user(user_id=5)                 # deactivate user\n",
        "\n",
        "# Get the data summary\n",
        "data.summarize()\n",
        "\n",
        "# Print all data\n",
        "print('Data')\n",
        "print('-----------')\n",
        "data.user_data\n",
        "```\n",
        "\n",
        "**Output 2**\n",
        "```\n",
        "Data summary\n",
        "------------\n",
        "Number of all user    : 6\n",
        "Number of active user : 4\n",
        "\n",
        "Data\n",
        "-----------\n",
        "[{'user_id': 1,\n",
        "  'data': {'name': 'cahya', 'gender': 'male', 'status': 'active'}},\n",
        " {'user_id': 2,\n",
        "  'data': {'name': 'dewa', 'gender': 'male', 'status': 'inactive'}},\n",
        " {'user_id': 3,\n",
        "  'data': {'name': 'fanny', 'gender': 'female', 'status': 'active'}},\n",
        " {'user_id': 4,\n",
        "  'data': {'name': 'dron', 'gender': 'male', 'status': 'active'}},\n",
        " {'user_id': 5,\n",
        "  'data': {'name': 'gaby', 'gender': 'female', 'status': 'inactive'}},\n",
        " {'user_id': 6,\n",
        "  'data': {'name': 'sativa', 'gender': 'female', 'status': 'active'}}]\n",
        "```"
      ],
      "metadata": {
        "id": "eVQBZZbdPJBQ"
      }
    },
    {
      "cell_type": "markdown",
      "source": [
        "## Answer\n",
        "\n",
        "---\n",
        "- Provide the code for solving the problem\n",
        "- **Make sure your function follows the `Detail Function`**"
      ],
      "metadata": {
        "id": "utpLqcoTDWhl"
      }
    },
    {
      "cell_type": "code",
      "execution_count": null,
      "metadata": {
        "id": "2cMCngmBDWhl"
      },
      "outputs": [],
      "source": [
        "# Write your code here\n",
        "# Note: You can write your input manually\n",
        "class UserData:\n",
        "  def __init__(self):\n",
        "    self.user_data = []\n",
        "\n",
        "  def summarize(self):\n",
        "    all_users = len(self.user_data)\n",
        "    active_users = sum(1 for user in self.user_data if user['data']['status'] == 'active')\n",
        "    print ('Data summary')\n",
        "    print('------------')\n",
        "    print(f'Number of all user: {all_users}')\n",
        "    print(f'Number of active user : {active_users}')\n",
        "    print()\n",
        "\n",
        "\n",
        "class RegistrationData(UserData):\n",
        "  def __init__(self):\n",
        "    super().__init__()\n",
        "\n",
        "\n",
        "  def add_user(self, name=str, gender=str):\n",
        "    user_id = len(self.user_data) + 1\n",
        "    user_data = {'user_id': user_id, 'data': {'name': name, 'gender': gender, 'status': 'active'}}\n",
        "    self.user_data.append(user_data)\n",
        "\n",
        "\n",
        "  def deactivate_user(self, user_id=int):\n",
        "    for user in self.user_data:\n",
        "      if user['user_id'] == user_id:\n",
        "        user['data']['status'] = 'inactive'\n",
        "        break"
      ]
    },
    {
      "cell_type": "code",
      "source": [
        "# Create an object\n",
        "data = RegistrationData()\n",
        "\n",
        "# First month\n",
        "data.add_user(name='cahya', gender='male')      # add user\n",
        "data.add_user(name='dewa', gender='male')       # add user\n",
        "data.add_user(name='fanny', gender='female')    # add user\n",
        "data.add_user(name='dron', gender='male')       # add user\n",
        "data.deactivate_user(user_id=2)                 # deactivate user\n",
        "data.add_user(name='gaby', gender='female')     # add user\n",
        "data.add_user(name='sativa', gender='female')   # add user\n",
        "data.deactivate_user(user_id=5)                 # deactivate user\n",
        "\n",
        "# Get the data summary\n",
        "data.summarize()\n",
        "\n",
        "# Print all data\n",
        "print('Data')\n",
        "print('-----------')\n",
        "data.user_data"
      ],
      "metadata": {
        "colab": {
          "base_uri": "https://localhost:8080/"
        },
        "id": "3Ol4Dq6vZixs",
        "outputId": "5199cafa-f9d2-4e49-a230-ddfe8e15a031"
      },
      "execution_count": null,
      "outputs": [
        {
          "output_type": "stream",
          "name": "stdout",
          "text": [
            "Data summary\n",
            "------------\n",
            "Number of all user: 6\n",
            "Number of active user : 4\n",
            "\n",
            "Data\n",
            "-----------\n"
          ]
        },
        {
          "output_type": "execute_result",
          "data": {
            "text/plain": [
              "[{'user_id': 1,\n",
              "  'data': {'name': 'cahya', 'gender': 'male', 'status': 'active'}},\n",
              " {'user_id': 2,\n",
              "  'data': {'name': 'dewa', 'gender': 'male', 'status': 'inactive'}},\n",
              " {'user_id': 3,\n",
              "  'data': {'name': 'fanny', 'gender': 'female', 'status': 'active'}},\n",
              " {'user_id': 4,\n",
              "  'data': {'name': 'dron', 'gender': 'male', 'status': 'active'}},\n",
              " {'user_id': 5,\n",
              "  'data': {'name': 'gaby', 'gender': 'female', 'status': 'inactive'}},\n",
              " {'user_id': 6,\n",
              "  'data': {'name': 'sativa', 'gender': 'female', 'status': 'active'}}]"
            ]
          },
          "metadata": {},
          "execution_count": 24
        }
      ]
    },
    {
      "cell_type": "markdown",
      "source": [
        "# Task 2. Normalize Data\n",
        "\n",
        "Category: Medium\n",
        "\n",
        "---"
      ],
      "metadata": {
        "id": "sMMfv8sK8jJz"
      }
    },
    {
      "cell_type": "markdown",
      "source": [
        "## Task Descriptions\n",
        "---\n",
        "- Create a class to normalize a set of data"
      ],
      "metadata": {
        "id": "8hXTw4yi8jKc"
      }
    },
    {
      "cell_type": "markdown",
      "source": [
        "**What is a normalization?**\n",
        "\n",
        "- Convert a set of data to have minimum value of 0.0 and maximum value of 1.0.\n",
        "- How to **transform** or **normalize** a data?\n",
        "\n",
        "$$\n",
        "x^{(\\text{new})}_{i}\n",
        "=\n",
        "\\cfrac\n",
        "{x^{(\\text{old})}_{i} - \\min(x^{(\\text{old})})}\n",
        "{\\max(x^{(\\text{old})}) - \\min(x^{(\\text{old})})}\n",
        "$$"
      ],
      "metadata": {
        "id": "SUwh0w7q8jKd"
      }
    },
    {
      "cell_type": "markdown",
      "source": [
        "**Examples**\n",
        "- Let, `x = [-3, -9, 0, 8, 11]`\n",
        "- We know that\n",
        "  - `min(x) = -9`\n",
        "  - `max(x) = 11`\n",
        "- Then\n",
        "\n",
        "$$\n",
        "\\begin{align*}\n",
        "x^{(\\text{new})}_{1}\n",
        "&=\n",
        "\\cfrac\n",
        "{x^{(\\text{old})}_{1} - \\min(x^{(\\text{old})})}\n",
        "{\\max(x^{(\\text{old})}) - \\min(x^{(\\text{old})})} \\\\\n",
        "x^{(\\text{new})}_{1}\n",
        "&=\n",
        "\\cfrac\n",
        "{-3 - (-9)}\n",
        "{11 - (-9)} \\\\\n",
        "x^{(\\text{new})}_{1}\n",
        "&=\n",
        "\\cfrac\n",
        "{6}\n",
        "{20} \\\\\n",
        "x^{(\\text{new})}_{1}\n",
        "&= 0.3\n",
        "\\end{align*}\n",
        "$$\n",
        "\n",
        "- Doing to all the `x`, we will have `x_normalized = [0.30, 0.00, 0.45, 0.05, 1.00]`"
      ],
      "metadata": {
        "id": "xQ3daWFINKKn"
      }
    },
    {
      "cell_type": "markdown",
      "source": [
        "## Detail function\n",
        "---"
      ],
      "metadata": {
        "id": "R_bPLY6K8jKe"
      }
    },
    {
      "cell_type": "markdown",
      "source": [
        "- Create a class named `Normalizer`\n",
        "- You can initialize the class without any input.\n",
        "- The `Normalizer` has three method\n",
        "  1. `fit`\n",
        "    - Have one input: `data` (list)\n",
        "    - To get the minimum & maximum value of data\n",
        "  2. `transform`\n",
        "    - Have one input: `data` (list)\n",
        "    - Have one output: `data_scaled` (list)\n",
        "    - Normalize the input data\n",
        "  3. `inverse_transform`\n",
        "    - Have one input: `data` (list)\n",
        "    - Have one output: `data_inv_scaled` (list)\n",
        "    - Return the normalize data to the initial data\n",
        "- The `Normalizer` has three parameters\n",
        "  1. `min`, contain the minimum value of the data\n",
        "  2. `max`, contain the maximum value of the data"
      ],
      "metadata": {
        "id": "ZD-sReJ7Pal9"
      }
    },
    {
      "cell_type": "markdown",
      "source": [
        "## Examples\n",
        "---"
      ],
      "metadata": {
        "id": "mukt9DGJ8jKf"
      }
    },
    {
      "cell_type": "markdown",
      "source": [
        "**Input 1**\n",
        "\n",
        "```python\n",
        "# Define a data to normalize\n",
        "x = [-3, -9, 0, 8, 11]\n",
        "\n",
        "# 1. Initialize a Normalizer object\n",
        "scaler = Normalizer()\n",
        "\n",
        "# 2. Fit the data\n",
        "scaler.fit(data = x)\n",
        "print('min value    :', scaler.min)\n",
        "print('max value    :', scaler.max)\n",
        "\n",
        "# 3. Transform data\n",
        "x_scaled = scaler.transform(data = x)\n",
        "print('x initial    :', x)\n",
        "print('x scaled     :', x_scaled)\n",
        "\n",
        "# 4. Transform back the scaled data\n",
        "x_inv_scaled = scaler.inverse_transform(data = x_scaled)\n",
        "print('x inv scaled :', x_inv_scaled)\n",
        "```\n",
        "\n",
        "**Output 1**\n",
        "```\n",
        "min value    : -9\n",
        "max value    : 11\n",
        "x initial    : [-3, -9, 0, 8, 11]\n",
        "x scaled     : [0.3, 0.0, 0.45, 0.85, 1.0]\n",
        "x inv scaled : [-3.0, -9.0, 0.0, 8.0, 11.0]\n",
        "```"
      ],
      "metadata": {
        "id": "tCEZyyOBQe8M"
      }
    },
    {
      "cell_type": "markdown",
      "source": [
        "---\n",
        "**Input 2**\n",
        "\n",
        "```python\n",
        "# Define a data to normalize\n",
        "x = [8, -3.7, 9, 8.2, 100, 8.9, 4.3, 12.5, -20.0, 3.2]\n",
        "\n",
        "# 1. Initialize a Normalizer object\n",
        "scaler = Normalizer()\n",
        "\n",
        "# 2. Fit the data\n",
        "scaler.fit(data = x)\n",
        "print('min value    :', scaler.min)\n",
        "print('max value    :', scaler.max)\n",
        "\n",
        "# 3. Transform data\n",
        "x_scaled = scaler.transform(data = x)\n",
        "print('x initial    :', x)\n",
        "print('x scaled     :', x_scaled)\n",
        "\n",
        "# 4. Transform back the scaled data\n",
        "x_inv_scaled = scaler.inverse_transform(data = x_scaled)\n",
        "print('x inv scaled :', x_inv_scaled)\n",
        "```\n",
        "\n",
        "**Output 2**\n",
        "```\n",
        "min value    : -20.0\n",
        "max value    : 100\n",
        "x initial    : [8, -3.7, 9, 8.2, 100, 8.9, 4.3, 12.5, -20.0, 3.2]\n",
        "x scaled     : [0.23333333333333334, 0.13583333333333333, 0.24166666666666667, 0.235, 1.0, 0.24083333333333332, 0.2025, 0.2708333333333333, 0.0, 0.19333333333333333]\n",
        "x inv scaled : [8.0, -3.6999999999999993, 9.0, 8.2, 100.0, 8.899999999999999, 4.300000000000001, 12.5, -20.0, 3.1999999999999993]\n",
        "```"
      ],
      "metadata": {
        "id": "GhnafjbwSaKB"
      }
    },
    {
      "cell_type": "markdown",
      "source": [
        "---\n",
        "**Input 3 - SPECIAL INPUT**\n",
        "\n",
        "```python\n",
        "# Define a data to normalize\n",
        "x = [8, -3.7, 9, 8.2, 8.9, 4.3, 12.5, -20.0, 3.2]\n",
        "\n",
        "# 1. Initialize a Normalizer object\n",
        "scaler = Normalizer()\n",
        "\n",
        "# 2. Fit the data\n",
        "scaler.fit(data = x)\n",
        "print('min value    :', scaler.min)\n",
        "print('max value    :', scaler.max)\n",
        "\n",
        "# 3. Transform data\n",
        "x_scaled = scaler.transform(data = x)\n",
        "print('x initial    :', x)\n",
        "print('x scaled     :', x_scaled)\n",
        "\n",
        "# 4. Transform another data\n",
        "x_new = [4.0, 3.0, -2.0, 1.0, 9.0, 8.0]\n",
        "x_new_scaled = scaler.transform(data = x_new)\n",
        "print('x new init   :', x_new)\n",
        "print('x new scaled :', x_new_scaled)\n",
        "```\n",
        "\n",
        "**Output 3**\n",
        "```\n",
        "min value    : -20.0\n",
        "max value    : 12.5\n",
        "x initial    : [8, -3.7, 9, 8.2, 8.9, 4.3, 12.5, -20.0, 3.2]\n",
        "x scaled     : [0.8615384615384616, 0.5015384615384616, 0.8923076923076924, 0.8676923076923077, 0.8892307692307692, 0.7476923076923078, 1.0, 0.0, 0.7138461538461538]\n",
        "x new init   : [4.0, 3.0, -2.0, 1.0, 9.0, 8.0]\n",
        "x new scaled : [0.7384615384615385, 0.7076923076923077, 0.5538461538461539, 0.6461538461538462, 0.8923076923076924, 0.8615384615384616]\n",
        "```"
      ],
      "metadata": {
        "id": "hJlq8usaTbSW"
      }
    },
    {
      "cell_type": "markdown",
      "source": [
        "## Answer\n",
        "\n",
        "---\n",
        "- Provide the code for solving the problem\n",
        "- **Make sure your function follows the `Detail Function`**"
      ],
      "metadata": {
        "id": "03X_QrF38jKh"
      }
    },
    {
      "cell_type": "code",
      "execution_count": null,
      "metadata": {
        "id": "oSWuJ6g08jKi"
      },
      "outputs": [],
      "source": [
        "# Write your code here\n",
        "# Note: You can write your input manually\n",
        "class Normalizer:\n",
        "\n",
        "  def fit(self, data=list):\n",
        "    self.max = max(data)\n",
        "    self.min = min(data)\n",
        "    self.range = self.max - self.min\n",
        "\n",
        "  def transform(self, data=list):\n",
        "     data_scaled = [(item - self.min) / self.range for item in data]\n",
        "     return data_scaled\n",
        "\n",
        "  def inverse_transform(self, data=list):\n",
        "    data_inv_scaled = [item * self.min + self.range for item in data]\n",
        "    return data_inv_scaled"
      ]
    },
    {
      "cell_type": "code",
      "source": [
        "# Define a data to normalize\n",
        "x = [-3, -9, 0, 8, 11]\n",
        "\n",
        "# 1. Initialize a Normalizer object\n",
        "scaler = Normalizer()\n",
        "\n",
        "# 2. Fit the data\n",
        "scaler.fit(data = x)\n",
        "print('min value    :', scaler.min)\n",
        "print('max value    :', scaler.max)\n",
        "\n",
        "# 3. Transform data\n",
        "x_scaled = scaler.transform(data = x)\n",
        "print('x initial    :', x)\n",
        "print('x scaled     :', x_scaled)\n",
        "\n",
        "# 4. Transform back the scaled data\n",
        "x_inv_scaled = scaler.inverse_transform(data = x_scaled)\n",
        "print('x inv scaled :', x_inv_scaled)"
      ],
      "metadata": {
        "colab": {
          "base_uri": "https://localhost:8080/"
        },
        "id": "hJXsOivyfCn5",
        "outputId": "d26e718d-ca8d-4b45-a127-fe59563c7059"
      },
      "execution_count": null,
      "outputs": [
        {
          "output_type": "stream",
          "name": "stdout",
          "text": [
            "min value    : -9\n",
            "max value    : 11\n",
            "x initial    : [-3, -9, 0, 8, 11]\n",
            "x scaled     : [0.3, 0.0, 0.45, 0.85, 1.0]\n",
            "x inv scaled : [17.3, 20.0, 15.95, 12.350000000000001, 11.0]\n"
          ]
        }
      ]
    },
    {
      "cell_type": "markdown",
      "source": [
        "# Task 3. Word Mapper\n",
        "\n",
        "Category: Hard\n",
        "\n",
        "---"
      ],
      "metadata": {
        "id": "1Lvmi7SKAR2A"
      }
    },
    {
      "cell_type": "markdown",
      "source": [
        "## Task Descriptions\n",
        "---\n",
        "- Create a class to convert word to numeric"
      ],
      "metadata": {
        "id": "KOrJ-tmbAR2X"
      }
    },
    {
      "cell_type": "markdown",
      "source": [
        "**Word to numeric**\n",
        "- When analyzing a text document, we usually convert the given word to numbers thus we can perform a numerical operation."
      ],
      "metadata": {
        "id": "5oeDx6NCAR2X"
      }
    },
    {
      "cell_type": "markdown",
      "source": [
        "**Example**\n",
        "- Given a list of words\n",
        "\n",
        "```python\n",
        "google_reviews = [\n",
        "    ['Aplikasinya berjalan dengan baik. Senang'],\n",
        "    ['Kurang suka. Waktu loading pembayaran terlalu lama'],\n",
        "    ['Butuh perbaiki loading dari aplikasi yang terlalu lama'],\n",
        "    ['Cepat proses installasinya'],\n",
        "    ['Kenapa tidak bisa top up bos ?'],\n",
        "    ['Suka suka suka']\n",
        "]\n",
        "```\n",
        "\n",
        "- To convert the list to number, first we need to create the bag of word, i.e. all unique words from the given reviews.\n",
        "\n",
        "```python\n",
        "bag_of_words = [\n",
        "    'aplikasi', 'aplikasinya', 'baik.', 'berjalan',\n",
        "    'bisa', 'bos?', 'butuh', 'cepat', 'dari',\n",
        "    'dengan', 'installasinya', 'kenapa', 'kurang',\n",
        "    'lama', 'loading', 'pembayaran', 'perbaiki',\n",
        "    'proses', 'senang', 'suka', 'suka.',\n",
        "    'terlalu', 'tidak', 'top', 'up',\n",
        "    'waktu', 'yang']\n",
        "```\n",
        "\n",
        "- After that, you can create a map, i.e. `words -> number`\n",
        "\n",
        "```python\n",
        "word_to_index = {\n",
        "    'aplikasi': 0,\n",
        "    'aplikasinya': 1,\n",
        "    'baik.': 2,\n",
        "    'berjalan': 3,\n",
        "    'bisa': 4,\n",
        "    'bos?': 5,\n",
        "    'butuh': 6,\n",
        "    'cepat': 7,\n",
        "    'dari': 8,\n",
        "    'dengan': 9,\n",
        "    'installasinya': 10,\n",
        "    'kenapa': 11,\n",
        "    'kurang': 12,\n",
        "    'lama': 13,\n",
        "    'loading': 14,\n",
        "    'pembayaran': 15,\n",
        "    'perbaiki': 16,\n",
        "    'proses': 17,\n",
        "    'senang': 18,\n",
        "    'suka': 19,\n",
        "    'suka.': 20,\n",
        "    'terlalu': 21,\n",
        "    'tidak': 22,\n",
        "    'top': 23,\n",
        "    'up': 24,\n",
        "    'waktu': 25,\n",
        "    'yang': 26\n",
        "}\n",
        "```\n",
        "\n",
        "- With the above map, we switch the word with the corresponding number.\n",
        "- Say the sentence is `['Aplikasinya berjalan']`, then the converted sentence is `[1, 3]`\n",
        "\n",
        "- Finally, you can map the whole google reviews to\n",
        "\n",
        "```python\n",
        "google_reviews_transformed = [\n",
        "    [1, 3, 9, 2, 18],\n",
        "    [12, 20, 25, 14, 15, 21, 13],\n",
        "    [6, 16, 14, 8, 0, 26, 21, 13],\n",
        "    [7, 17, 10],\n",
        "    [11, 22, 4, 23, 24, 5],\n",
        "    [19, 19, 19]\n",
        "]\n",
        "```"
      ],
      "metadata": {
        "id": "AaGDyJNkX33k"
      }
    },
    {
      "cell_type": "markdown",
      "source": [
        "## Detail function\n",
        "---"
      ],
      "metadata": {
        "id": "fTGn2luKAR2Y"
      }
    },
    {
      "cell_type": "markdown",
      "source": [
        "- Create a class called by `Mapper`\n",
        "- `Mapper` could be initialize without inserting any input\n",
        "- `Mapper` has several method:\n",
        "  - `fit`\n",
        "    - To create a bag of word and word-to-index mapper from a given `sentence_list`\n",
        "    - Has 1 input, `sentence_list` (list)\n",
        "    - Has no output\n",
        "  - `transform`\n",
        "    - To transform a `sentence_list` to number based on the obtained bag of words and word-to-index mapper\n",
        "    - Has 1 input, `sentence_list` (list)\n",
        "    - Has 1 output, `sentence_list_transformed` (list)\n",
        "  - `inverse_transform`\n",
        "    - To inverse transform number to word based on the obtained bag of words and word-to-index mapper\n",
        "    - Has 1 input, `sentence_list_number` (list)\n",
        "    - Has 1 output, `sentence_list` (list)\n",
        "\n",
        "- `Mapper` has several parameters:\n",
        "  - `bag_of_words` (list), contain all the unique word from the given sentence list (in an alphabetical order)\n",
        "  - `word_to_index` (dictionary), contain a map of word to index based on the given `bag_of_words`"
      ],
      "metadata": {
        "id": "tEaLWiIZAR2Y"
      }
    },
    {
      "cell_type": "markdown",
      "source": [
        "## Examples\n",
        "---"
      ],
      "metadata": {
        "id": "k7TYvpqPAR2Z"
      }
    },
    {
      "cell_type": "markdown",
      "source": [
        "**Input 1**\n",
        "\n",
        "```python\n",
        "# Google review comments\n",
        "google_reviews = [\n",
        "    ['Aplikasinya berjalan dengan baik. Senang'],\n",
        "    ['Kurang suka. Waktu loading pembayaran terlalu lama'],\n",
        "    ['Butuh perbaiki loading dari aplikasi yang terlalu lama'],\n",
        "    ['Cepat proses installasinya'],\n",
        "    ['Kenapa tidak bisa top up bos?'],\n",
        "    ['Suka suka suka']\n",
        "]\n",
        "\n",
        "# Create a Mapper object\n",
        "map_obj = Mapper()\n",
        "\n",
        "# Fit the mapper\n",
        "map_obj.fit(sentence_list = google_reviews)\n",
        "print('Bag of Words:')\n",
        "print(map_obj.bag_of_words)\n",
        "print('')\n",
        "print('Word to Index:')\n",
        "print(map_obj.word_to_index)\n",
        "print('')\n",
        "\n",
        "# Transform the reviews\n",
        "reviews_transformed = map_obj.transform(sentence_list = google_reviews)\n",
        "print('Transformed reviews:')\n",
        "print(reviews_transformed)\n",
        "print('')\n",
        "\n",
        "\n",
        "# Inverse transform the transformed reviews\n",
        "reviews_inv_transformed = map_obj.inverse_transform(sentence_list_number = reviews_transformed)\n",
        "print('Inverse transformed reviews:')\n",
        "print(reviews_inv_transformed)\n",
        "print('')\n",
        "```\n",
        "\n",
        "**Output 1**\n",
        "```python\n",
        "Bag of Words:\n",
        "['aplikasi', 'aplikasinya', 'baik.', 'berjalan', 'bisa', 'bos?', 'butuh', 'cepat', 'dari', 'dengan', 'installasinya', 'kenapa', 'kurang', 'lama', 'loading', 'pembayaran', 'perbaiki', 'proses', 'senang', 'suka', 'suka.', 'terlalu', 'tidak', 'top', 'up', 'waktu', 'yang']\n",
        "\n",
        "Word to Index:\n",
        "{'aplikasi': 0, 'aplikasinya': 1, 'baik.': 2, 'berjalan': 3, 'bisa': 4, 'bos?': 5, 'butuh': 6, 'cepat': 7, 'dari': 8, 'dengan': 9, 'installasinya': 10, 'kenapa': 11, 'kurang': 12, 'lama': 13, 'loading': 14, 'pembayaran': 15, 'perbaiki': 16, 'proses': 17, 'senang': 18, 'suka': 19, 'suka.': 20, 'terlalu': 21, 'tidak': 22, 'top': 23, 'up': 24, 'waktu': 25, 'yang': 26}\n",
        "\n",
        "Transformed reviews:\n",
        "[[1, 3, 9, 2, 18], [12, 20, 25, 14, 15, 21, 13], [6, 16, 14, 8, 0, 26, 21, 13], [7, 17, 10], [11, 22, 4, 23, 24, 5], [19, 19, 19]]\n",
        "\n",
        "Inverse transformed reviews:\n",
        "['aplikasinya berjalan dengan baik. senang', 'kurang suka. waktu loading pembayaran terlalu lama', 'butuh perbaiki loading dari aplikasi yang terlalu lama', 'cepat proses installasinya', 'kenapa tidak bisa top up bos?', 'suka suka suka']\n",
        "```"
      ],
      "metadata": {
        "id": "xBisqn3HAR2Z"
      }
    },
    {
      "cell_type": "markdown",
      "source": [
        "---\n",
        "**Input 2**\n",
        "\n",
        "```python\n",
        "# Text: Data Mining dan Contoh Penerapannya untuk Perusahaan\n",
        "# From: https://pacmann.io/blog/data-mining-dan-contoh-penerapannya-untuk-perusahaan\n",
        "doc_text = [\n",
        "    ['Dewasa ini, data mining sudah digunakan nyaris di berbagai industri.'],\n",
        "    ['Seiring budaya informasi berbasis data kian menguat, peran data mining juga semakin vital bagi bisnis.'],\n",
        "    ['Dengan data mining, perusahaan mampu menggali informasi berharga mengenai perilaku konsumen, tren industri, dan masih banyak lagi.'],\n",
        "    ['Berikut adalah beberapa di antaranya'],\n",
        "    ['Mengumpulkan informasi yang reliabel dan faktual'],\n",
        "    ['Mendeteksi dan mencegah penipuan'],\n",
        "    ['Mengidentifikasi risiko'],\n",
        "    ['Merespon perubahan tren dalam industri'],\n",
        "    ['Membuat keputusan yang berbasis data'],\n",
        "    ['Meningkatkan hubungan dengan konsumen'],\n",
        "    ['Kendati demikian, proses data mining juga tidak selalu berjalan sesuai harapan.'],\n",
        "    ['Ada beberapa permasalahan yang kerap ditemui dalam data mining di perusahaan.']\n",
        "]\n",
        "\n",
        "# Create a Mapper object\n",
        "map_obj = Mapper()\n",
        "\n",
        "# Fit the mapper\n",
        "map_obj.fit(sentence_list = doc_text)\n",
        "print('Bag of Words:')\n",
        "print(map_obj.bag_of_words)\n",
        "print('')\n",
        "print('Word to Index:')\n",
        "print(map_obj.word_to_index)\n",
        "print('')\n",
        "\n",
        "# Transform the reviews\n",
        "text_transformed = map_obj.transform(sentence_list = doc_text)\n",
        "print('Transformed text:')\n",
        "print(text_transformed)\n",
        "print('')\n",
        "\n",
        "\n",
        "# Inverse transform the transformed text\n",
        "text_inv_transformed = map_obj.inverse_transform(sentence_list_number = text_transformed)\n",
        "print('Inverse transformed text:')\n",
        "print(text_inv_transformed)\n",
        "print('')\n",
        "```\n",
        "\n",
        "**Output 2**\n",
        "```python\n",
        "Bag of Words:\n",
        "['ada', 'adalah', 'antaranya', 'bagi', 'banyak', 'beberapa', 'berbagai', 'berbasis', 'berharga', 'berikut', 'berjalan', 'bisnis.', 'budaya', 'dalam', 'dan', 'data', 'demikian,', 'dengan', 'dewasa', 'di', 'digunakan', 'ditemui', 'faktual', 'harapan.', 'hubungan', 'industri', 'industri,', 'industri.', 'informasi', 'ini,', 'juga', 'kendati', 'keputusan', 'kerap', 'kian', 'konsumen', 'konsumen,', 'lagi.', 'mampu', 'masih', 'membuat', 'mencegah', 'mendeteksi', 'mengenai', 'menggali', 'mengidentifikasi', 'menguat,', 'mengumpulkan', 'meningkatkan', 'merespon', 'mining', 'mining,', 'nyaris', 'penipuan', 'peran', 'perilaku', 'permasalahan', 'perubahan', 'perusahaan', 'perusahaan.', 'proses', 'reliabel', 'risiko', 'seiring', 'selalu', 'semakin', 'sesuai', 'sudah', 'tidak', 'tren', 'vital', 'yang']\n",
        "\n",
        "Word to Index:\n",
        "{'ada': 0, 'adalah': 1, 'antaranya': 2, 'bagi': 3, 'banyak': 4, 'beberapa': 5, 'berbagai': 6, 'berbasis': 7, 'berharga': 8, 'berikut': 9, 'berjalan': 10, 'bisnis.': 11, 'budaya': 12, 'dalam': 13, 'dan': 14, 'data': 15, 'demikian,': 16, 'dengan': 17, 'dewasa': 18, 'di': 19, 'digunakan': 20, 'ditemui': 21, 'faktual': 22, 'harapan.': 23, 'hubungan': 24, 'industri': 25, 'industri,': 26, 'industri.': 27, 'informasi': 28, 'ini,': 29, 'juga': 30, 'kendati': 31, 'keputusan': 32, 'kerap': 33, 'kian': 34, 'konsumen': 35, 'konsumen,': 36, 'lagi.': 37, 'mampu': 38, 'masih': 39, 'membuat': 40, 'mencegah': 41, 'mendeteksi': 42, 'mengenai': 43, 'menggali': 44, 'mengidentifikasi': 45, 'menguat,': 46, 'mengumpulkan': 47, 'meningkatkan': 48, 'merespon': 49, 'mining': 50, 'mining,': 51, 'nyaris': 52, 'penipuan': 53, 'peran': 54, 'perilaku': 55, 'permasalahan': 56, 'perubahan': 57, 'perusahaan': 58, 'perusahaan.': 59, 'proses': 60, 'reliabel': 61, 'risiko': 62, 'seiring': 63, 'selalu': 64, 'semakin': 65, 'sesuai': 66, 'sudah': 67, 'tidak': 68, 'tren': 69, 'vital': 70, 'yang': 71}\n",
        "\n",
        "Transformed text:\n",
        "[[18, 29, 15, 50, 67, 20, 52, 19, 6, 27], [63, 12, 28, 7, 15, 34, 46, 54, 15, 50, 30, 65, 70, 3, 11], [17, 15, 51, 58, 38, 44, 28, 8, 43, 55, 36, 69, 26, 14, 39, 4, 37], [9, 1, 5, 19, 2], [47, 28, 71, 61, 14, 22], [42, 14, 41, 53], [45, 62], [49, 57, 69, 13, 25], [40, 32, 71, 7, 15], [48, 24, 17, 35], [31, 16, 60, 15, 50, 30, 68, 64, 10, 66, 23], [0, 5, 56, 71, 33, 21, 13, 15, 50, 19, 59]]\n",
        "\n",
        "Inverse transformed text:\n",
        "['dewasa ini, data mining sudah digunakan nyaris di berbagai industri.', 'seiring budaya informasi berbasis data kian menguat, peran data mining juga semakin vital bagi bisnis.', 'dengan data mining, perusahaan mampu menggali informasi berharga mengenai perilaku konsumen, tren industri, dan masih banyak lagi.', 'berikut adalah beberapa di antaranya', 'mengumpulkan informasi yang reliabel dan faktual', 'mendeteksi dan mencegah penipuan', 'mengidentifikasi risiko', 'merespon perubahan tren dalam industri', 'membuat keputusan yang berbasis data', 'meningkatkan hubungan dengan konsumen', 'kendati demikian, proses data mining juga tidak selalu berjalan sesuai harapan.', 'ada beberapa permasalahan yang kerap ditemui dalam data mining di perusahaan.']\n",
        "```"
      ],
      "metadata": {
        "id": "mQnbYJYlAR2Z"
      }
    },
    {
      "cell_type": "markdown",
      "source": [
        "## Answer\n",
        "\n",
        "---\n",
        "- Provide the code for solving the problem\n",
        "- **Make sure your function follows the `Detail Function`**"
      ],
      "metadata": {
        "id": "2ifQ4p2BAR2Z"
      }
    },
    {
      "cell_type": "code",
      "execution_count": null,
      "metadata": {
        "id": "QqG_g8VWAR2a"
      },
      "outputs": [],
      "source": [
        "class Mapper:\n",
        "  def fit(self, sentence_list):\n",
        "    self.bag_of_words = []\n",
        "\n",
        "    for index in sentence_list:\n",
        "      for word in index[0].lower().split():\n",
        "        self.bag_of_words.append(word)\n",
        "\n",
        "    self.bag_of_words = sorted(set(self.bag_of_words))\n",
        "    self.word_to_index = {word:index for index, word in enumerate(self.bag_of_words)}\n",
        "\n",
        "  def transform(self, sentence_list):\n",
        "    self.sentence_list_transformed = []\n",
        "\n",
        "    for sentence in sentence_list:\n",
        "      transform_sentence = []\n",
        "      for text in sentence[0].lower().split():\n",
        "        transform_sentence.append(self.word_to_index.get(text))\n",
        "\n",
        "      self.sentence_list_transformed.append(transform_sentence)\n",
        "\n",
        "    return self.sentence_list_transformed\n",
        "\n",
        "  def inverse_transform(self, sentence_list_number):\n",
        "    self.sentence_list = []\n",
        "    key_list = list(self.word_to_index.keys())\n",
        "    value_list = list(self.word_to_index.values())\n",
        "\n",
        "    for num_sentence in sentence_list_number:\n",
        "      num_list = []\n",
        "      for num in num_sentence:\n",
        "        num_loc = value_list.index(num)\n",
        "        num_list.append(key_list[num_loc])\n",
        "\n",
        "      self.sentence_list.append(' '.join(num_list))\n",
        "\n",
        "    return self.sentence_list"
      ]
    },
    {
      "cell_type": "code",
      "source": [
        "# Google review comments\n",
        "google_reviews = [\n",
        "    ['Aplikasinya berjalan dengan baik. Senang'],\n",
        "    ['Kurang suka. Waktu loading pembayaran terlalu lama'],\n",
        "    ['Butuh perbaiki loading dari aplikasi yang terlalu lama'],\n",
        "    ['Cepat proses installasinya'],\n",
        "    ['Kenapa tidak bisa top up bos?'],\n",
        "    ['Suka suka suka']\n",
        "]\n",
        "\n",
        "# Create a Mapper object\n",
        "map_obj = Mapper()\n",
        "\n",
        "# Fit the mapper\n",
        "map_obj.fit(sentence_list = google_reviews)\n",
        "print('Bag of Words:')\n",
        "print(map_obj.bag_of_words)\n",
        "print('')\n",
        "print('Word to Index:')\n",
        "print(map_obj.word_to_index)\n",
        "print('')\n",
        "\n",
        "# Transform the reviews\n",
        "reviews_transformed = map_obj.transform(sentence_list = google_reviews)\n",
        "print('Transformed reviews:')\n",
        "print(reviews_transformed)\n",
        "print('')\n",
        "\n",
        "\n",
        "# Inverse transform the transformed reviews\n",
        "reviews_inv_transformed = map_obj.inverse_transform(sentence_list_number = reviews_transformed)\n",
        "print('Inverse transformed reviews:')\n",
        "print(reviews_inv_transformed)\n",
        "print('')"
      ],
      "metadata": {
        "colab": {
          "base_uri": "https://localhost:8080/"
        },
        "id": "k15Q3_Tfw5Fg",
        "outputId": "f64ad982-3317-4f1e-ead3-10fc8c410316"
      },
      "execution_count": null,
      "outputs": [
        {
          "output_type": "stream",
          "name": "stdout",
          "text": [
            "Bag of Words:\n",
            "['aplikasi', 'aplikasinya', 'baik.', 'berjalan', 'bisa', 'bos?', 'butuh', 'cepat', 'dari', 'dengan', 'installasinya', 'kenapa', 'kurang', 'lama', 'loading', 'pembayaran', 'perbaiki', 'proses', 'senang', 'suka', 'suka.', 'terlalu', 'tidak', 'top', 'up', 'waktu', 'yang']\n",
            "\n",
            "Word to Index:\n",
            "{'aplikasi': 0, 'aplikasinya': 1, 'baik.': 2, 'berjalan': 3, 'bisa': 4, 'bos?': 5, 'butuh': 6, 'cepat': 7, 'dari': 8, 'dengan': 9, 'installasinya': 10, 'kenapa': 11, 'kurang': 12, 'lama': 13, 'loading': 14, 'pembayaran': 15, 'perbaiki': 16, 'proses': 17, 'senang': 18, 'suka': 19, 'suka.': 20, 'terlalu': 21, 'tidak': 22, 'top': 23, 'up': 24, 'waktu': 25, 'yang': 26}\n",
            "\n",
            "Transformed reviews:\n",
            "[[1, 3, 9, 2, 18], [12, 20, 25, 14, 15, 21, 13], [6, 16, 14, 8, 0, 26, 21, 13], [7, 17, 10], [11, 22, 4, 23, 24, 5], [19, 19, 19]]\n",
            "\n",
            "Inverse transformed reviews:\n",
            "['aplikasinya berjalan dengan baik. senang', 'kurang suka. waktu loading pembayaran terlalu lama', 'butuh perbaiki loading dari aplikasi yang terlalu lama', 'cepat proses installasinya', 'kenapa tidak bisa top up bos?', 'suka suka suka']\n",
            "\n"
          ]
        }
      ]
    },
    {
      "cell_type": "markdown",
      "source": [
        "# Task 4. Debug this code\n",
        "\n",
        "Category: Easy\n",
        "\n",
        "---"
      ],
      "metadata": {
        "id": "xsUAqsjvIBVH"
      }
    },
    {
      "cell_type": "markdown",
      "source": [
        "## Task 4.1\n",
        "---\n",
        "\n",
        "Below is a code to extract email with domain `@pacmannai.com` from mailing list to a new mailing list"
      ],
      "metadata": {
        "id": "-boMqGSZKWrn"
      }
    },
    {
      "cell_type": "code",
      "source": [
        "def is_domain(email, domain_ref):\n",
        "    '''return whether the given email has domain_ref, e.g. '@pacmannai.com' '''\n",
        "    if email.split('@')[1] == domain_ref:\n",
        "        return True\n",
        "    else:\n",
        "        return False\n",
        "\n",
        "def extract_domain(mail_list, domain_ref):\n",
        "    '''return list of mail that has a specific domain'''\n",
        "    correct_mail_list = []\n",
        "\n",
        "    for mail in mail_list:\n",
        "        if is_domain(mail, domain_ref):\n",
        "            correct_mail_list.append(mail)\n",
        "\n",
        "    return correct_mail_list\n",
        "\n",
        "# Set the input\n",
        "mail_list = [\n",
        "      'abc@pacmannai.com',\n",
        "      'def@pacmann_ai.com',\n",
        "      'ghi@pacmannai.co.id',\n",
        "      'jkl@gmail.com',\n",
        "      'por@gmail.com',\n",
        "      'pacmannai@gmail.com',\n",
        "      'drive@gmail.com'\n",
        "]\n",
        "\n",
        "domain_ref = \"pacmannai.com\"\n",
        "\n",
        "# Run the function\n",
        "res = extract_domain(mail_list, domain_ref)\n",
        "print(res)"
      ],
      "metadata": {
        "colab": {
          "base_uri": "https://localhost:8080/"
        },
        "id": "bTnItQ4Nq_w3",
        "outputId": "a7a292d0-ecae-4da1-973a-29d5cd6525e4"
      },
      "execution_count": null,
      "outputs": [
        {
          "output_type": "stream",
          "name": "stdout",
          "text": [
            "['abc@pacmannai.com']\n"
          ]
        }
      ]
    },
    {
      "cell_type": "markdown",
      "source": [
        "## Task 4.2\n",
        "---\n",
        "\n",
        "Below is a code to calculate a negative log-likelihood (NLL) from given actual value ($y_{i}$) & predicted probability ($P_{i}$)\n",
        "\n",
        "$$\n",
        "\\text{NLL} =\n",
        "-\\cfrac{1}{N}\n",
        "\\sum_{i=1}^{N}\n",
        "\\left(\n",
        "    y_{i} \\log (P_{i})\n",
        "    +\n",
        "    (1 - y_{i}) \\log (1 - P_{i})\n",
        "\\right)\n",
        "$$"
      ],
      "metadata": {
        "id": "2wXfc46gMBph"
      }
    },
    {
      "cell_type": "code",
      "source": [
        "# Debug this code\n",
        "import math\n",
        "\n",
        "def nll(actual, predicted_proba):\n",
        "\t'''return the negative loglikelihood. Return NLL (float)'''\n",
        "\tN = len(actual)\n",
        "\n",
        "\tnll = -(1/N) * sum(actual[i] * math.log(predicted_proba[i]) + (1 - actual[i]) * math.log(1 - predicted_proba[i]) for i in range(N))\n",
        "\n",
        "\treturn nll\n",
        "\n",
        "\n",
        "# Input\n",
        "actual = [1, 0, 0, 1, 1]\n",
        "predicted_proba = [0.9, 0.1, 0.05, 0.8, 0.7]\n",
        "\n",
        "res = nll(actual, predicted_proba)\n",
        "print(res)\n",
        "# Should be 0.16836656419122908"
      ],
      "metadata": {
        "id": "9NS3UtvJMBpi",
        "colab": {
          "base_uri": "https://localhost:8080/"
        },
        "outputId": "df234f5c-8055-41b9-ba24-f1229effd4d5"
      },
      "execution_count": null,
      "outputs": [
        {
          "output_type": "stream",
          "name": "stdout",
          "text": [
            "0.16836656419122908\n"
          ]
        }
      ]
    },
    {
      "cell_type": "markdown",
      "source": [
        "# Task 5. Data Validation - 1\n",
        "\n",
        "Category: Medium\n",
        "\n",
        "---"
      ],
      "metadata": {
        "id": "zBwsNOpKirCd"
      }
    },
    {
      "cell_type": "markdown",
      "source": [
        "## Detail Function\n",
        "---\n",
        "- Create a function named `is_matrix_equal` to check whether two matrices are almost equal withing specific tolerance.\n",
        "\n",
        "- The input are\n",
        "  - `mat_1`, the first matrix, `list`, should be 2D\n",
        "  - `mat_2`, the second matrix, `list`, should be 2D\n",
        "  - `tol`, the specified tolerance.\n",
        "\n",
        "- The output are\n",
        "  - `status`, `True` if the two matrix are equal, else `False`\n",
        "  - Two matrices are equal in size when the number of rows & columns are similar.\n",
        "  - Two matrices are equal in value if the **absolute difference** of each element is lower than the given tolerance, `tol`.\n",
        "\n",
        "- Before checking the matrices, you should create a data defense (validation) that raise error to the user such as:\n",
        "  - `TypeError('<mat_xx> type error. Should be list')` if `mat_1` or/and `mat_2` is not `list`\n",
        "  - `TypeError('<mat_xx> should be 2D list')` if `mat_1` or/and `mat_2` is not a 2D list\n",
        "  - `ValueError('Mismatch number of rows')` or `ValueError('Mismatch number of columns')` if `mat_1` and `mat_2` is not have similar size."
      ],
      "metadata": {
        "id": "pfj7U8KG2sgu"
      }
    },
    {
      "cell_type": "markdown",
      "source": [
        "## Examples\n",
        "---"
      ],
      "metadata": {
        "id": "RG2Q-hHDnDzk"
      }
    },
    {
      "cell_type": "markdown",
      "source": [
        "**Input 1**\n",
        "\n",
        "```python\n",
        "mat_1 = [\n",
        "    [1, 2, 3],\n",
        "    [4, 5, 6]\n",
        "]\n",
        "mat_2 = None\n",
        "\n",
        "res = is_matrix_equal(mat_1, mat_2, tol=0.01)\n",
        "print(res)\n",
        "```\n",
        "\n",
        "**Output 1**\n",
        "```\n",
        "TypeError: mat_2 type error. Should be list\n",
        "```"
      ],
      "metadata": {
        "id": "dtc5RbOinDzk"
      }
    },
    {
      "cell_type": "markdown",
      "source": [
        "---\n",
        "**Input 2**\n",
        "\n",
        "```python\n",
        "mat_1 = None\n",
        "mat_2 = None\n",
        "\n",
        "res = is_matrix_equal(mat_1, mat_2, tol=0.01)\n",
        "print(res)\n",
        "```\n",
        "\n",
        "**Output 2**\n",
        "```\n",
        "TypeError: mat_1 type error. Should be list\n",
        "```"
      ],
      "metadata": {
        "id": "gbHY8FagnDzl"
      }
    },
    {
      "cell_type": "markdown",
      "source": [
        "---\n",
        "**Input 3**\n",
        "\n",
        "```python\n",
        "mat_1 = 3\n",
        "mat_2 = 4\n",
        "\n",
        "res = is_matrix_equal(mat_1, mat_2, tol=0.01)\n",
        "print(res)\n",
        "```\n",
        "\n",
        "**Output 3**\n",
        "```\n",
        "TypeError: mat_1 type error. Should be list\n",
        "```"
      ],
      "metadata": {
        "id": "hb12B-KEYGon"
      }
    },
    {
      "cell_type": "markdown",
      "source": [
        "---\n",
        "**Input 4**\n",
        "\n",
        "```python\n",
        "mat_1 = [[4, 3]]\n",
        "mat_2 = [[4, 3],\n",
        "         [1, 2]]\n",
        "\n",
        "res = is_matrix_equal(mat_1, mat_2, tol=0.01)\n",
        "print(res)\n",
        "```\n",
        "\n",
        "**Output 4**\n",
        "```\n",
        "ValueError: Mismatch number of rows\n",
        "```"
      ],
      "metadata": {
        "id": "eloGEUUiYQVH"
      }
    },
    {
      "cell_type": "markdown",
      "source": [
        "---\n",
        "**Input 5**\n",
        "\n",
        "```python\n",
        "mat_1 = [[4, 3],\n",
        "         [1, 2]]\n",
        "mat_2 = [[4, 3],\n",
        "         [1, 2]]\n",
        "\n",
        "res = is_matrix_equal(mat_1, mat_2, tol=0.01)\n",
        "print(res)\n",
        "```\n",
        "\n",
        "**Output 5**\n",
        "```\n",
        "True\n",
        "```"
      ],
      "metadata": {
        "id": "M_YKr0I7Yhlq"
      }
    },
    {
      "cell_type": "markdown",
      "source": [
        "---\n",
        "**Input 6**\n",
        "\n",
        "```python\n",
        "mat_1 = [[4.000, 3.005],\n",
        "         [1.000, 2.000]]\n",
        "mat_2 = [[4.001, 3.000],\n",
        "         [1.001, 1.995]]\n",
        "\n",
        "res = is_matrix_equal(mat_1, mat_2, tol=0.01)\n",
        "print(res)\n",
        "```\n",
        "\n",
        "**Output 6**\n",
        "```\n",
        "True\n",
        "```"
      ],
      "metadata": {
        "id": "L3nhXbzpYnHh"
      }
    },
    {
      "cell_type": "markdown",
      "source": [
        "---\n",
        "**Input 7**\n",
        "\n",
        "```python\n",
        "mat_1 = [[4.00, 3.05],\n",
        "         [1.00, 2.00]]\n",
        "mat_2 = [[4.01, 3.00],\n",
        "         [1.01, 1.95]]\n",
        "\n",
        "res = is_matrix_equal(mat_1, mat_2, tol=0.05)\n",
        "print(res)\n",
        "```\n",
        "\n",
        "**Output 7**\n",
        "```\n",
        "False\n",
        "```"
      ],
      "metadata": {
        "id": "kUguXtYhZJNo"
      }
    },
    {
      "cell_type": "markdown",
      "source": [
        "---\n",
        "**Input 8**\n",
        "```python\n",
        "mat_1 = [[4.00, '3.05'],\n",
        "         [1.00, 2.00]]\n",
        "mat_2 = [[4.01, 3.00],\n",
        "         [1.01, 1.95]]\n",
        "\n",
        "res = is_matrix_equal(mat_1, mat_2, tol=0.05)\n",
        "print(res)\n",
        "```\n",
        "\n",
        "**Output 8**\n",
        "```\n",
        "ValueError: Element of matrix mat_1 is not number\n",
        "```"
      ],
      "metadata": {
        "id": "2RDu3odG2jHu"
      }
    },
    {
      "cell_type": "markdown",
      "source": [
        "## Answer\n",
        "\n",
        "---\n",
        "- Provide the code for solving the problem\n",
        "- **Make sure your function follows the `Detail Function`**"
      ],
      "metadata": {
        "id": "8N_F1Qv2nDzp"
      }
    },
    {
      "cell_type": "code",
      "execution_count": null,
      "metadata": {
        "id": "PbnWoi3vnDzp"
      },
      "outputs": [],
      "source": [
        "def is_matrix_equal(mat_1, mat_2, tol):\n",
        "\n",
        "# Check if the data is list\n",
        "    if type(mat_1) != list:\n",
        "        raise TypeError('<mat_1> type error. Should be list')\n",
        "    if type(mat_2) != list:\n",
        "        raise TypeError('<mat_2> type error. Should be list')\n",
        "\n",
        "    num_1 = []\n",
        "    for row in mat_1:\n",
        "        if isinstance(row, list) == False: # Check if the data is 2D list\n",
        "            raise TypeError('<mat_1> should be 2D list')\n",
        "\n",
        "        for num in row:\n",
        "            if isinstance(num, (float, int)) == False: # Check if the value data is correct\n",
        "                raise ValueError('Element of matrix mat_1 is not number')\n",
        "            num_1.append(num)\n",
        "\n",
        "    num_2 = []\n",
        "    for row in mat_2:\n",
        "        if isinstance(row, list) == False: # Check if the data is 2D list\n",
        "            raise TypeError('<mat_2> should be 2D list')\n",
        "\n",
        "        for num in row:\n",
        "            if isinstance(num, (float, int)) == False: # Check if the data is 2D list\n",
        "                raise ValueError('Element of matrix mat_2 is not number')\n",
        "            num_2.append(num)\n",
        "\n",
        "# Check if the lenght is correct\n",
        "    if len(num_1) != len(num_2):\n",
        "        raise ValueError('Mismatch number of elements')\n",
        "\n",
        "# Looping for the difference from tol\n",
        "    for i in range(0, len(num_1)):\n",
        "        diff = abs(num_1[i] - num_2[i])\n",
        "        if diff > tol:\n",
        "            return False\n",
        "\n",
        "    return True"
      ]
    },
    {
      "cell_type": "code",
      "source": [
        "mat_1 = [[4, 3],\n",
        "         [1, 2]]\n",
        "mat_2 = [[4, 3],\n",
        "         [1, 2]]\n",
        "\n",
        "res = is_matrix_equal(mat_1, mat_2, tol=0.01)\n",
        "print(res)"
      ],
      "metadata": {
        "colab": {
          "base_uri": "https://localhost:8080/"
        },
        "id": "zkDBlt-Mjt6K",
        "outputId": "5c27138c-6c14-485c-9d87-21bcf482e683"
      },
      "execution_count": null,
      "outputs": [
        {
          "output_type": "stream",
          "name": "stdout",
          "text": [
            "True\n"
          ]
        }
      ]
    },
    {
      "cell_type": "markdown",
      "source": [
        "# Task 6. Data Validation - 2\n",
        "\n",
        "Category: Hard\n",
        "\n",
        "---"
      ],
      "metadata": {
        "id": "D3nQIQPWnIu9"
      }
    },
    {
      "cell_type": "markdown",
      "source": [
        "## Task Descriptions\n",
        "---\n",
        "- Create a function to validate the given input and return\n",
        "  - `clean_data` (list), contain the cleaned data\n",
        "  - `error_msg` (dictionary), contain data error rows & its error message\n",
        "    - example 1:\n",
        "    ```python\n",
        "    # The error is in data\n",
        "    {\n",
        "        'Mismatch input type'\n",
        "    }\n",
        "    ```\n",
        "    - example 2:\n",
        "    ```python\n",
        "    # The error is in data rows\n",
        "    {\n",
        "        1: ['Mismatch input type on col:id'],\n",
        "        5: ['Mismatch input type on col:id', 'None value in col:id', 'Negative value in col:revenue'],\n",
        "        12: ['Mismatch col:id type']\n",
        "    }\n",
        "    ```\n"
      ],
      "metadata": {
        "id": "5XEVWPiMnIu-"
      }
    },
    {
      "cell_type": "markdown",
      "source": [
        "## Task Descriptions\n",
        "---\n",
        "\n",
        "- Create a function to validate the given input and return\n",
        "  - If the data is validated, return the given data & empty list of error, e.g.\n",
        "  ```python\n",
        "    {\n",
        "        \"data\": [\n",
        "            [\n",
        "                \"id\",\n",
        "                \"sales\",\n",
        "                \"revenue\"\n",
        "            ],\n",
        "            [\n",
        "                \"ab01\",\n",
        "                2,\n",
        "                3\n",
        "            ],\n",
        "            [\n",
        "                \"de02\",\n",
        "                4,\n",
        "                5\n",
        "            ]\n",
        "        ],\n",
        "        \"error\": []\n",
        "    }\n",
        "  ```\n",
        "  - If the data is failed to validate, return `None` on data and what's the error message, e.g.\n",
        "  ```python\n",
        "    {\n",
        "        \"data\": null,\n",
        "        \"error\": [\n",
        "            {\n",
        "                \"index\": 1,\n",
        "                \"error\": [\n",
        "                    \"None value on col:revenue\"\n",
        "                ]\n",
        "            },\n",
        "            {\n",
        "                \"index\": 2,\n",
        "                \"error\": [\n",
        "                    \"Mismatch input type on col:sales. Should be a number\",\n",
        "                    \"None value on col:revenue\"\n",
        "                ]\n",
        "            }\n",
        "        ]\n",
        "    }\n",
        "  ```"
      ],
      "metadata": {
        "id": "Fe2d_TwSakNs"
      }
    },
    {
      "cell_type": "markdown",
      "source": [
        "- The data is valid if\n",
        "  - A 2D `list` type (have rows & columns).\n",
        "  - Have three columns, i.e. `'id'`, `'sales'`, `'revenue'`\n",
        "  - The first row is the columns name.\n",
        "  - The `'id'` data is a str, the `'sales'` and `'revenue'` are numbers.\n",
        "  - The data should not have `None` value.\n",
        "  - The `sales` and `revenue` should be greater or equal than 0."
      ],
      "metadata": {
        "id": "7uMd3jXBe8EI"
      }
    },
    {
      "cell_type": "markdown",
      "source": [
        "## Detail function\n",
        "---"
      ],
      "metadata": {
        "id": "lyLKi4pSnIu_"
      }
    },
    {
      "cell_type": "markdown",
      "source": [
        "- Create function named `validate_data`\n",
        "- Have 1 input called `raw_data` (list)\n",
        "- Validate the data according to the task descriptions\n",
        "- Return a validation summary (`dict`) according to the examples\n",
        "- Type of error:\n",
        "  - `Mismatch input type`; if the `raw_data` is not list\n",
        "  - `Mismatch input size. The data is not in 2D`; if the `raw_data` is not a 2D list\n",
        "  - `Mismatch number of columns`; if the `raw_data` and each row does not have 3 columns\n",
        "  - `Mismatch data columns name`; if the `raw_data` col names is not `['id', 'sales', 'revenue']`\n",
        "  - `Mismatch data columns sequence`; if the `raw_data` col names is not in the right sequence\n",
        "  - `Mismatch input type on col:<col_names>`; if the element type is not correct\n",
        "  - `None value on col:<col_names>`; if the element value is `None`\n",
        "  - `Negative value on col:<col_names>`; if the element value is less than zero"
      ],
      "metadata": {
        "id": "YAoQuv7XnIu_"
      }
    },
    {
      "cell_type": "markdown",
      "source": [
        "## Examples\n",
        "---"
      ],
      "metadata": {
        "id": "-ViTHAI0nIu_"
      }
    },
    {
      "cell_type": "markdown",
      "source": [
        "**Input 1**\n",
        "\n",
        "```python\n",
        "raw_data = []\n",
        "\n",
        "data_val = validate_data(raw_data)\n",
        "\n",
        "# Json Dumps\n",
        "import json\n",
        "print(json.dumps(data_val, indent=4))\n",
        "```\n",
        "\n",
        "**Output 1**\n",
        "```\n",
        "{\n",
        "    \"data\": null,\n",
        "    \"error\": \"Mismatch input size. The data is not in 2D\"\n",
        "}\n",
        "```"
      ],
      "metadata": {
        "id": "V44UzZZanIvA"
      }
    },
    {
      "cell_type": "markdown",
      "source": [
        "---\n",
        "**Input 2**\n",
        "\n",
        "```python\n",
        "raw_data = [['a', 'b', 'c']]\n",
        "\n",
        "data_val = validate_data(raw_data)\n",
        "\n",
        "# Json Dumps\n",
        "import json\n",
        "print(json.dumps(data_val, indent=4))\n",
        "```\n",
        "\n",
        "**Output 2**\n",
        "```\n",
        "{\n",
        "    \"data\": null,\n",
        "    \"error\": \"Mismatch data columns name\"\n",
        "}\n",
        "```"
      ],
      "metadata": {
        "id": "bVwr2LyxnIvA"
      }
    },
    {
      "cell_type": "markdown",
      "source": [
        "---\n",
        "**Input 3**\n",
        "\n",
        "```python\n",
        "raw_data = [['id', 'sales', 'revenue'],\n",
        "            [3, 2]]\n",
        "\n",
        "data_val = validate_data(raw_data)\n",
        "\n",
        "# Json Dumps\n",
        "import json\n",
        "print(json.dumps(data_val, indent=4))\n",
        "```\n",
        "\n",
        "**Output 3**\n",
        "```\n",
        "{\n",
        "    \"data\": null,\n",
        "    \"error\": \"Mismatch number of columns\"\n",
        "}\n",
        "```"
      ],
      "metadata": {
        "id": "ueLMt6D9nIvA"
      }
    },
    {
      "cell_type": "markdown",
      "source": [
        "---\n",
        "**Input 4**\n",
        "\n",
        "```python\n",
        "raw_data = [['id', 'revenue', 'sales'],\n",
        "            ['as32', 3, 2],\n",
        "            ['pc43', 5, 2]]\n",
        "\n",
        "data_val = validate_data(raw_data)\n",
        "\n",
        "# Json Dumps\n",
        "import json\n",
        "print(json.dumps(data_val, indent=4))\n",
        "```\n",
        "\n",
        "**Output 4**\n",
        "```\n",
        "{\n",
        "    \"data\": null,\n",
        "    \"error\": \"Mismatch data columns sequence\"\n",
        "}\n",
        "```"
      ],
      "metadata": {
        "id": "XA7x8bzzghMV"
      }
    },
    {
      "cell_type": "markdown",
      "source": [
        "---\n",
        "**Input 5**\n",
        "\n",
        "```python\n",
        "raw_data = [['id', 'sales', 'revenue'],\n",
        "            ['as32', 3, 2],\n",
        "            ['pc43', 5, 2]]\n",
        "\n",
        "data_val = validate_data(raw_data)\n",
        "\n",
        "# Json Dumps\n",
        "import json\n",
        "print(json.dumps(data_val, indent=4))\n",
        "```\n",
        "\n",
        "**Output 5**\n",
        "```\n",
        "{\n",
        "    \"data\": [\n",
        "        [\n",
        "            \"id\",\n",
        "            \"sales\",\n",
        "            \"revenue\"\n",
        "        ],\n",
        "        [\n",
        "            \"as32\",\n",
        "            3,\n",
        "            2\n",
        "        ],\n",
        "        [\n",
        "            \"pc43\",\n",
        "            5,\n",
        "            2\n",
        "        ]\n",
        "    ],\n",
        "    \"error\": []\n",
        "}\n",
        "```"
      ],
      "metadata": {
        "id": "NpYqgqK5ghMt"
      }
    },
    {
      "cell_type": "markdown",
      "source": [
        "---\n",
        "**Input 6**\n",
        "\n",
        "```python\n",
        "raw_data = [['id', 'sales', 'revenue'],\n",
        "            ['as32', 3, 2],\n",
        "            ['pc43', 5, 2],\n",
        "            [None, 4, '2'],\n",
        "            ['ds32', 5, 10],\n",
        "            ['ab41', None, 's']]\n",
        "\n",
        "data_val = validate_data(raw_data)\n",
        "\n",
        "# Json Dumps\n",
        "import json\n",
        "print(json.dumps(data_val, indent=4))\n",
        "```\n",
        "\n",
        "**Output 6**\n",
        "```\n",
        "{\n",
        "    \"data\": null,\n",
        "    \"error\": [\n",
        "        {\n",
        "            \"index\": 3,\n",
        "            \"error\": [\n",
        "                \"None value on col:id\",\n",
        "                \"Mismatch input type on col:revenue. Should be a number\"\n",
        "            ]\n",
        "        },\n",
        "        {\n",
        "            \"index\": 5,\n",
        "            \"error\": [\n",
        "                \"None value on col:sales\",\n",
        "                \"Mismatch input type on col:revenue. Should be a number\"\n",
        "            ]\n",
        "        }\n",
        "    ]\n",
        "}\n",
        "```"
      ],
      "metadata": {
        "id": "PPMJQ6H9ghMt"
      }
    },
    {
      "cell_type": "markdown",
      "source": [
        "## Answer\n",
        "\n",
        "---\n",
        "- Provide the code for solving the problem\n",
        "- **Make sure your function follows the `Detail Function`**"
      ],
      "metadata": {
        "id": "GKLvaQWbnIvD"
      }
    },
    {
      "cell_type": "code",
      "execution_count": null,
      "metadata": {
        "id": "BP9Yt9yynIvD"
      },
      "outputs": [],
      "source": [
        "# Write your code here\n",
        "# Note: You can write your input manually\n",
        "\n",
        "def validate_data(raw_data):\n",
        "\n",
        "# Check if the input is a 2D list\n",
        "  if not isinstance(raw_data, list) or not all(isinstance(row, list) for row in raw_data):\n",
        "    return ({\"data\": None, \"error\": 'Mismatch input size. The data is not in 2D'})\n",
        "\n",
        "# Check if raw_data columns (name, sequence) matches\n",
        "  expected_columns = ['id', 'sales', 'revenue']\n",
        "  if len(raw_data) == 1 and raw_data[0] != expected_columns:\n",
        "    return ({\"data\": None, \"error\": 'Mismatch data columns name'})\n",
        "  elif len(raw_data) > 1 and raw_data[0] != expected_columns:\n",
        "    return ({\"data\": None, \"error\": 'Mismatch data columns sequence'})\n",
        "\n",
        "  valid_data = []\n",
        "  error_list = []\n",
        "\n",
        "# Looping start from index 1 and check the length of raw_data\n",
        "  for i, row in enumerate(raw_data[1:], start=1):\n",
        "    error = []\n",
        "    if len(row) != len(raw_data[0]):\n",
        "      return ({\"data\": None, \"error\": 'Mismatch number of columns'})\n",
        "\n",
        "# Looping current data\n",
        "    for col_index, col_name in enumerate(row):\n",
        "      if col_name is None:\n",
        "        error.append(f'None value on col: {raw_data[0][col_index]}')\n",
        "      elif col_index > 0 and not isinstance(col_name, (int, float)):\n",
        "        error.append(f'Mismatch input type on col: {raw_data[0][col_index]}. Should be a number')\n",
        "\n",
        "# Check if there are errors, add to the error list\n",
        "    if len(error) > 0:\n",
        "        error_list.append({\"index\": i, \"error\": error})\n",
        "    else:\n",
        "        valid_data.append(row)\n",
        "\n",
        "# Check if there are errors on the error_list\n",
        "\n",
        "  if len(error_list) > 0:\n",
        "    return {\"data\": None, \"error\": error_list}\n",
        "\n",
        "  return {\"data\": raw_data, \"error\": []}"
      ]
    },
    {
      "cell_type": "code",
      "source": [
        "raw_data = [['id', 'sales', 'revenue'],\n",
        "            ['as32', 3, 2],\n",
        "            ['pc43', 5, 2],\n",
        "            [None, 4, '2'],\n",
        "            ['ds32', 5, 10],\n",
        "            ['ab41', None, 's']]\n",
        "\n",
        "data_val = validate_data(raw_data)\n",
        "\n",
        "# Json Dumps\n",
        "import json\n",
        "print(json.dumps(data_val, indent=4))"
      ],
      "metadata": {
        "colab": {
          "base_uri": "https://localhost:8080/"
        },
        "id": "po0FDlM3zilJ",
        "outputId": "7ae6e7b0-d2f6-41e9-a28a-3086f2e5e599"
      },
      "execution_count": null,
      "outputs": [
        {
          "output_type": "stream",
          "name": "stdout",
          "text": [
            "{\n",
            "    \"data\": null,\n",
            "    \"error\": [\n",
            "        {\n",
            "            \"index\": 3,\n",
            "            \"error\": [\n",
            "                \"None value on col: id\",\n",
            "                \"Mismatch input type on col: revenue. Should be a number\"\n",
            "            ]\n",
            "        },\n",
            "        {\n",
            "            \"index\": 5,\n",
            "            \"error\": [\n",
            "                \"None value on col: sales\",\n",
            "                \"Mismatch input type on col: revenue. Should be a number\"\n",
            "            ]\n",
            "        }\n",
            "    ]\n",
            "}\n"
          ]
        }
      ]
    }
  ]
}